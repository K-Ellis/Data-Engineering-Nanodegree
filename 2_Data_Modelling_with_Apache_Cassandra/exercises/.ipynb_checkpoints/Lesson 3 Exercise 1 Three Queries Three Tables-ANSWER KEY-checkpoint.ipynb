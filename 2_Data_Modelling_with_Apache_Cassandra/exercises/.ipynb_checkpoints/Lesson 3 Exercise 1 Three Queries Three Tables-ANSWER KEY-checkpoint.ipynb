{
 "cells": [
  {
   "cell_type": "markdown",
   "metadata": {},
   "source": [
    "# Lesson 3 Exercise 1 Solution: Three Queries Three Tables\n",
    "<img src=\"images/cassandralogo.png\" width=\"250\" height=\"250\">"
   ]
  },
  {
   "cell_type": "markdown",
   "metadata": {},
   "source": [
    "### Walk through the basics of creating a table in Apache Cassandra, inserting rows of data, and doing a simple CQL query to validate the information. You will practice Denormalization, and the concept of 1 table per query, which is an encouraged practice with Apache Cassandra. "
   ]
  },
  {
   "cell_type": "markdown",
   "metadata": {},
   "source": [
    "#### We will use a python wrapper/ python driver called cassandra to run the Apache Cassandra queries. This library should be preinstalled but in the future to install this library you can run this command in a notebook to install locally: \n",
    "! pip install cassandra-driver\n",
    "#### More documentation can be found here:  https://datastax.github.io/python-driver/"
   ]
  },
  {
   "cell_type": "markdown",
   "metadata": {},
   "source": [
    "#### Import Apache Cassandra python package"
   ]
  },
  {
   "cell_type": "code",
   "execution_count": 2,
   "metadata": {},
   "outputs": [
    {
     "name": "stdout",
     "output_type": "stream",
     "text": [
      "Collecting cassandra-driver\n",
      "  Downloading cassandra_driver-3.23.0-cp37-cp37m-manylinux1_x86_64.whl (4.3 MB)\n",
      "\u001b[K     |████████████████████████████████| 4.3 MB 1.6 MB/s eta 0:00:01\n",
      "\u001b[?25hCollecting geomet<0.2,>=0.1\n",
      "  Downloading geomet-0.1.2.tar.gz (11 kB)\n",
      "Requirement already satisfied: six>=1.9 in /home/kern/anaconda3/lib/python3.7/site-packages (from cassandra-driver) (1.14.0)\n",
      "Requirement already satisfied: click in /home/kern/anaconda3/lib/python3.7/site-packages (from geomet<0.2,>=0.1->cassandra-driver) (7.0)\n",
      "Building wheels for collected packages: geomet\n",
      "  Building wheel for geomet (setup.py) ... \u001b[?25ldone\n",
      "\u001b[?25h  Created wheel for geomet: filename=geomet-0.1.2-py3-none-any.whl size=14896 sha256=fc977e70fec85c41666218582eeff8beeb0d7e9aa95d0162644fd8f54e3b8a6d\n",
      "  Stored in directory: /home/kern/.cache/pip/wheels/e9/eb/92/8464b4ce12209717c1728cbdc7bf3862f4a080e484701406c6\n",
      "Successfully built geomet\n",
      "Installing collected packages: geomet, cassandra-driver\n",
      "Successfully installed cassandra-driver-3.23.0 geomet-0.1.2\n"
     ]
    }
   ],
   "source": [
    "# !pip install cassandra-driver"
   ]
  },
  {
   "cell_type": "code",
   "execution_count": 3,
   "metadata": {},
   "outputs": [],
   "source": [
    "import cassandra"
   ]
  },
  {
   "cell_type": "markdown",
   "metadata": {},
   "source": [
    "### Create a connection to the database"
   ]
  },
  {
   "cell_type": "code",
   "execution_count": 8,
   "metadata": {},
   "outputs": [],
   "source": [
    "from cassandra.cluster import Cluster\n",
    "cluster = Cluster(['0.0.0.0']) \n",
    "session = cluster.connect()"
   ]
  },
  {
   "cell_type": "markdown",
   "metadata": {},
   "source": [
    "### Create a keyspace to work in"
   ]
  },
  {
   "cell_type": "code",
   "execution_count": 9,
   "metadata": {},
   "outputs": [],
   "source": [
    "session.execute(\"\"\"\n",
    "    CREATE KEYSPACE IF NOT EXISTS udacity \n",
    "    WITH REPLICATION = \n",
    "    { 'class' : 'SimpleStrategy', 'replication_factor' : 1 }\"\"\"\n",
    ")"
   ]
  },
  {
   "cell_type": "markdown",
   "metadata": {},
   "source": [
    "#### Connect to our Keyspace. Compare this to how we had to create a new session in PostgreSQL.  "
   ]
  },
  {
   "cell_type": "code",
   "execution_count": 10,
   "metadata": {},
   "outputs": [],
   "source": [
    "session.set_keyspace('udacity')"
   ]
  },
  {
   "cell_type": "markdown",
   "metadata": {},
   "source": [
    "### Let's imagine we would like to start creating a Music Library of albums. \n",
    "\n",
    "### We want to ask 3 questions of our data\n",
    "#### 1. Give every album in the music library that was released in a given year\n",
    "`select * from music_library WHERE YEAR=1970`\n",
    "#### 2. Give every album in the music library that was created by a given artist  \n",
    "`select * from artist_library WHERE artist_name=\"The Beatles\"`\n",
    "#### 3. Give all the information from the music library about a given album\n",
    "`select * from album_library WHERE album_name=\"Close To You\"`\n"
   ]
  },
  {
   "cell_type": "markdown",
   "metadata": {},
   "source": [
    "### Because we want to do three different queries, we will need different tables that partition the data differently.  \n",
    "* The music library table will be partitioned by year that will become the partition key, and artist name will be the clustering column to make each Primary Key unique. \n",
    "* The artist library table will be partitioned by artist name that will be the partition key, and year will be the clustering column to make each Primary Key unique. More on Primary keys in the next lesson and demo. \n",
    "* The album library table will be partitioned by album name that will be the partition key, and artist will be the clustering colum to make each Primary Key unique. \n",
    "\n",
    "`Table Name: music_library\n",
    "column 1: Year\n",
    "column 2: Artist Name\n",
    "column 3: Album Name\n",
    "PRIMARY KEY(year, artist name)`\n",
    "<img src=\"images/table1.png\" width=\"350\" height=\"350\">\n",
    "\n",
    "` Table Name: artist_library \n",
    "column 1: Artist Name\n",
    "column 2: Year\n",
    "column 3: Album Name\n",
    "PRIMARY KEY (artist name, year)`\n",
    "<img src=\"images/table2.png\" width=\"350\" height=\"350\">\n",
    "\n",
    "`Table Name: album_library \n",
    "column 1: Album Name\n",
    "column 2: Artist Name\n",
    "column 3: Year\n",
    "PRIMARY KEY (album_name, artist_name)`\n",
    "<img src=\"images/table0.png\" width=\"550\" height=\"550\">\n"
   ]
  },
  {
   "cell_type": "markdown",
   "metadata": {},
   "source": [
    "### Create the tables"
   ]
  },
  {
   "cell_type": "code",
   "execution_count": 11,
   "metadata": {},
   "outputs": [
    {
     "data": {
      "text/plain": [
       "<cassandra.cluster.ResultSet at 0x7f5c19d8ead0>"
      ]
     },
     "execution_count": 11,
     "metadata": {},
     "output_type": "execute_result"
    }
   ],
   "source": [
    "query = \"CREATE TABLE IF NOT EXISTS music_library \"\n",
    "query = query + \"(year int, artist_name text, album_name text, PRIMARY KEY (year, artist_name))\"\n",
    "session.execute(query)\n",
    "\n",
    "query = \"CREATE TABLE IF NOT EXISTS artist_library \"\n",
    "query = query + \"(artist_name text, year int, album_name text, PRIMARY KEY (artist_name,  year))\"\n",
    "session.execute(query)\n",
    "    \n",
    "query = \"CREATE TABLE IF NOT EXISTS album_library \"\n",
    "query = query + \"(artist_name text, album_name text, year int, PRIMARY KEY (album_name, artist_name))\"\n",
    "session.execute(query)"
   ]
  },
  {
   "cell_type": "markdown",
   "metadata": {},
   "source": [
    "### Insert data into the tables"
   ]
  },
  {
   "cell_type": "code",
   "execution_count": 12,
   "metadata": {},
   "outputs": [
    {
     "data": {
      "text/plain": [
       "<cassandra.cluster.ResultSet at 0x7f5c19e07b90>"
      ]
     },
     "execution_count": 12,
     "metadata": {},
     "output_type": "execute_result"
    }
   ],
   "source": [
    "query = \"INSERT INTO music_library (year, artist_name, album_name)\"\n",
    "query = query + \" VALUES (%s, %s, %s)\"\n",
    "\n",
    "query1 = \"INSERT INTO artist_library (artist_name, year, album_name)\"\n",
    "query1 = query1 + \" VALUES (%s, %s, %s)\"\n",
    "\n",
    "query2 = \"INSERT INTO album_library (album_name, artist_name, year)\"\n",
    "query2 = query2 + \" VALUES (%s, %s, %s)\"\n",
    "\n",
    "session.execute(query, (1970, \"The Beatles\", \"Let it Be\"))\n",
    "session.execute(query, (1965, \"The Beatles\", \"Rubber Soul\"))\n",
    "session.execute(query, (1965, \"The Who\", \"My Generation\"))\n",
    "session.execute(query, (1966, \"The Monkees\", \"The Monkees\"))\n",
    "session.execute(query, (1970, \"The Carpenters\", \"Close To You\"))\n",
    "\n",
    "session.execute(query1, (\"The Beatles\", 1970, \"Let it Be\"))\n",
    "session.execute(query1, (\"The Beatles\", 1965, \"Rubber Soul\"))\n",
    "session.execute(query1, (\"The Who\", 1965, \"My Generation\"))\n",
    "session.execute(query1, (\"The Monkees\", 1966, \"The Monkees\"))\n",
    "session.execute(query1, (\"The Carpenters\", 1970, \"Close To You\"))\n",
    "\n",
    "session.execute(query2, (\"Let it Be\", \"The Beatles\", 1970))\n",
    "session.execute(query2, (\"Rubber Soul\", \"The Beatles\", 1965))\n",
    "session.execute(query2, (\"My Generation\", \"The Who\", 1965))\n",
    "session.execute(query2, (\"The Monkees\", \"The Monkees\", 1966))\n",
    "session.execute(query2, (\"Close To You\", \"The Carpenters\", 1970))"
   ]
  },
  {
   "cell_type": "markdown",
   "metadata": {},
   "source": [
    "### This might have felt unnatural to insert duplicate data into two tables. If I just normalized these tables, I wouldn't have to have extra copies! While this is true, remember there are no `JOINS` in Apache Cassandra. For the benefit of high availibity and scalabity denormalization must be how this is done. \n"
   ]
  },
  {
   "cell_type": "markdown",
   "metadata": {},
   "source": [
    "### Validate our Data Model\n",
    "\n",
    "`select * from music_library WHERE YEAR=1970`"
   ]
  },
  {
   "cell_type": "code",
   "execution_count": 14,
   "metadata": {},
   "outputs": [
    {
     "name": "stdout",
     "output_type": "stream",
     "text": [
      "1970 The Beatles Let it Be\n",
      "1970 The Carpenters Close To You\n"
     ]
    }
   ],
   "source": [
    "query = \"select * from music_library WHERE YEAR=1970\"\n",
    "rows = session.execute(query)\n",
    "for row in rows:\n",
    "    print (row.year, row.artist_name, row.album_name,)"
   ]
  },
  {
   "cell_type": "markdown",
   "metadata": {},
   "source": [
    "### Validate our Data Model\n",
    "\n",
    "`select * from artist_library WHERE ARTIST_NAME = \"The Beatles\"`"
   ]
  },
  {
   "cell_type": "code",
   "execution_count": 15,
   "metadata": {},
   "outputs": [
    {
     "name": "stdout",
     "output_type": "stream",
     "text": [
      "The Beatles 1965 Rubber Soul\n",
      "The Beatles 1970 Let it Be\n"
     ]
    }
   ],
   "source": [
    "query = \"select * from artist_library WHERE ARTIST_NAME='The Beatles'\"\n",
    "rows = session.execute(query)\n",
    "for row in rows:\n",
    "    print (row.artist_name, row.year, row.album_name)"
   ]
  },
  {
   "cell_type": "markdown",
   "metadata": {},
   "source": [
    "### Validate our Data Model\n",
    "\n",
    "`select * from album_library WHERE album_name=\"Close To You\"`"
   ]
  },
  {
   "cell_type": "code",
   "execution_count": 16,
   "metadata": {},
   "outputs": [
    {
     "name": "stdout",
     "output_type": "stream",
     "text": [
      "The Carpenters 1970 Close To You\n"
     ]
    }
   ],
   "source": [
    "query = \"select * from album_library WHERE ALBUM_NAME='Close To You'\"\n",
    "rows = session.execute(query)    \n",
    "for row in rows:\n",
    "    print (row.artist_name, row.year, row.album_name)"
   ]
  },
  {
   "cell_type": "markdown",
   "metadata": {},
   "source": [
    "### For the sake of the demo, drop the table. "
   ]
  },
  {
   "cell_type": "code",
   "execution_count": 17,
   "metadata": {},
   "outputs": [],
   "source": [
    "query = \"drop table music_library\"\n",
    "rows = session.execute(query)\n",
    "\n",
    "query = \"drop table album_library\"\n",
    "rows = session.execute(query)\n",
    "\n",
    "query = \"drop table artist_library\"\n",
    "rows = session.execute(query)"
   ]
  },
  {
   "cell_type": "markdown",
   "metadata": {},
   "source": [
    "### Close the session and cluster connection"
   ]
  },
  {
   "cell_type": "code",
   "execution_count": 18,
   "metadata": {},
   "outputs": [],
   "source": [
    "session.shutdown()\n",
    "cluster.shutdown()"
   ]
  },
  {
   "cell_type": "code",
   "execution_count": null,
   "metadata": {},
   "outputs": [],
   "source": []
  }
 ],
 "metadata": {
  "kernelspec": {
   "display_name": "Python 3",
   "language": "python",
   "name": "python3"
  },
  "language_info": {
   "codemirror_mode": {
    "name": "ipython",
    "version": 3
   },
   "file_extension": ".py",
   "mimetype": "text/x-python",
   "name": "python",
   "nbconvert_exporter": "python",
   "pygments_lexer": "ipython3",
   "version": "3.7.6"
  }
 },
 "nbformat": 4,
 "nbformat_minor": 4
}
